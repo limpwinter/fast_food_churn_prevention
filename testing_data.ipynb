{
 "cells": [
  {
   "cell_type": "code",
   "execution_count": 11,
   "id": "9590c182",
   "metadata": {},
   "outputs": [],
   "source": [
    "%load_ext autoreload\n",
    "%autoreload 2\n",
    "\n",
    "import pandas as pd\n",
    "import matplotlib.pyplot as plt\n",
    "\n",
    "\n",
    "from src import MetaInfo\n"
   ]
  },
  {
   "cell_type": "code",
   "execution_count": 3,
   "id": "2ad569f8",
   "metadata": {},
   "outputs": [],
   "source": [
    "train_data = pd.read_parquet(\"data/train.parquet\")\n",
    "test_data = pd.read_parquet(\"data/test.parquet\")\n"
   ]
  },
  {
   "cell_type": "code",
   "execution_count": 4,
   "id": "7cd931ef",
   "metadata": {},
   "outputs": [
    {
     "data": {
      "text/plain": [
       "customer_id                int64\n",
       "date_diff_post           float64\n",
       "buy_post                   int64\n",
       "group_name                object\n",
       "revenue                  float64\n",
       "startdatetime     datetime64[ns]\n",
       "dish_name                 object\n",
       "ownareaall_sqm           float64\n",
       "format_name               object\n",
       "dtype: object"
      ]
     },
     "execution_count": 4,
     "metadata": {},
     "output_type": "execute_result"
    }
   ],
   "source": [
    "train_data.dtypes"
   ]
  },
  {
   "cell_type": "code",
   "execution_count": 5,
   "id": "8b921219",
   "metadata": {},
   "outputs": [
    {
     "data": {
      "text/html": [
       "<div>\n",
       "<style scoped>\n",
       "    .dataframe tbody tr th:only-of-type {\n",
       "        vertical-align: middle;\n",
       "    }\n",
       "\n",
       "    .dataframe tbody tr th {\n",
       "        vertical-align: top;\n",
       "    }\n",
       "\n",
       "    .dataframe thead th {\n",
       "        text-align: right;\n",
       "    }\n",
       "</style>\n",
       "<table border=\"1\" class=\"dataframe\">\n",
       "  <thead>\n",
       "    <tr style=\"text-align: right;\">\n",
       "      <th></th>\n",
       "      <th>customer_id</th>\n",
       "      <th>date_diff_post</th>\n",
       "      <th>buy_post</th>\n",
       "      <th>revenue</th>\n",
       "      <th>startdatetime</th>\n",
       "      <th>ownareaall_sqm</th>\n",
       "    </tr>\n",
       "  </thead>\n",
       "  <tbody>\n",
       "    <tr>\n",
       "      <th>count</th>\n",
       "      <td>1.212938e+07</td>\n",
       "      <td>9.660867e+06</td>\n",
       "      <td>1.212938e+07</td>\n",
       "      <td>1.212938e+07</td>\n",
       "      <td>12129384</td>\n",
       "      <td>1.212938e+07</td>\n",
       "    </tr>\n",
       "    <tr>\n",
       "      <th>mean</th>\n",
       "      <td>1.980954e+07</td>\n",
       "      <td>2.048039e+01</td>\n",
       "      <td>7.964846e-01</td>\n",
       "      <td>1.067995e+02</td>\n",
       "      <td>2023-02-20 12:19:13.394690048</td>\n",
       "      <td>2.155130e+02</td>\n",
       "    </tr>\n",
       "    <tr>\n",
       "      <th>min</th>\n",
       "      <td>2.989100e+04</td>\n",
       "      <td>0.000000e+00</td>\n",
       "      <td>0.000000e+00</td>\n",
       "      <td>1.000000e-02</td>\n",
       "      <td>2022-09-02 00:00:39</td>\n",
       "      <td>0.000000e+00</td>\n",
       "    </tr>\n",
       "    <tr>\n",
       "      <th>25%</th>\n",
       "      <td>1.010852e+07</td>\n",
       "      <td>8.000000e+00</td>\n",
       "      <td>1.000000e+00</td>\n",
       "      <td>4.499000e+01</td>\n",
       "      <td>2022-12-06 16:12:06</td>\n",
       "      <td>1.049000e+02</td>\n",
       "    </tr>\n",
       "    <tr>\n",
       "      <th>50%</th>\n",
       "      <td>2.127459e+07</td>\n",
       "      <td>1.700000e+01</td>\n",
       "      <td>1.000000e+00</td>\n",
       "      <td>7.998000e+01</td>\n",
       "      <td>2023-02-22 11:04:22</td>\n",
       "      <td>2.104000e+02</td>\n",
       "    </tr>\n",
       "    <tr>\n",
       "      <th>75%</th>\n",
       "      <td>2.803856e+07</td>\n",
       "      <td>3.000000e+01</td>\n",
       "      <td>1.000000e+00</td>\n",
       "      <td>1.317725e+02</td>\n",
       "      <td>2023-05-09 18:48:02</td>\n",
       "      <td>3.000000e+02</td>\n",
       "    </tr>\n",
       "    <tr>\n",
       "      <th>max</th>\n",
       "      <td>4.666180e+07</td>\n",
       "      <td>6.000000e+01</td>\n",
       "      <td>1.000000e+00</td>\n",
       "      <td>1.449971e+04</td>\n",
       "      <td>2023-08-01 23:57:46</td>\n",
       "      <td>9.787000e+02</td>\n",
       "    </tr>\n",
       "    <tr>\n",
       "      <th>std</th>\n",
       "      <td>1.138904e+07</td>\n",
       "      <td>1.527091e+01</td>\n",
       "      <td>4.026126e-01</td>\n",
       "      <td>1.074385e+02</td>\n",
       "      <td>NaN</td>\n",
       "      <td>1.225907e+02</td>\n",
       "    </tr>\n",
       "  </tbody>\n",
       "</table>\n",
       "</div>"
      ],
      "text/plain": [
       "        customer_id  date_diff_post      buy_post       revenue   \n",
       "count  1.212938e+07    9.660867e+06  1.212938e+07  1.212938e+07  \\\n",
       "mean   1.980954e+07    2.048039e+01  7.964846e-01  1.067995e+02   \n",
       "min    2.989100e+04    0.000000e+00  0.000000e+00  1.000000e-02   \n",
       "25%    1.010852e+07    8.000000e+00  1.000000e+00  4.499000e+01   \n",
       "50%    2.127459e+07    1.700000e+01  1.000000e+00  7.998000e+01   \n",
       "75%    2.803856e+07    3.000000e+01  1.000000e+00  1.317725e+02   \n",
       "max    4.666180e+07    6.000000e+01  1.000000e+00  1.449971e+04   \n",
       "std    1.138904e+07    1.527091e+01  4.026126e-01  1.074385e+02   \n",
       "\n",
       "                       startdatetime  ownareaall_sqm  \n",
       "count                       12129384    1.212938e+07  \n",
       "mean   2023-02-20 12:19:13.394690048    2.155130e+02  \n",
       "min              2022-09-02 00:00:39    0.000000e+00  \n",
       "25%              2022-12-06 16:12:06    1.049000e+02  \n",
       "50%              2023-02-22 11:04:22    2.104000e+02  \n",
       "75%              2023-05-09 18:48:02    3.000000e+02  \n",
       "max              2023-08-01 23:57:46    9.787000e+02  \n",
       "std                              NaN    1.225907e+02  "
      ]
     },
     "execution_count": 5,
     "metadata": {},
     "output_type": "execute_result"
    }
   ],
   "source": [
    "train_data.describe()"
   ]
  },
  {
   "cell_type": "code",
   "execution_count": 8,
   "id": "3063f5d5",
   "metadata": {},
   "outputs": [],
   "source": [
    "# train_data[train_data['customer_id'] == 45067]"
   ]
  },
  {
   "cell_type": "code",
   "execution_count": 9,
   "id": "083c8477",
   "metadata": {},
   "outputs": [],
   "source": [
    "temp = train_data.groupby('ownareaall_sqm')['format_name'].nunique()"
   ]
  },
  {
   "cell_type": "code",
   "execution_count": 10,
   "id": "7b6ad5d7",
   "metadata": {},
   "outputs": [
    {
     "data": {
      "text/plain": [
       "ownareaall_sqm\n",
       "300.0    5\n",
       "Name: format_name, dtype: int64"
      ]
     },
     "execution_count": 10,
     "metadata": {},
     "output_type": "execute_result"
    }
   ],
   "source": [
    "temp[temp == 5]"
   ]
  },
  {
   "cell_type": "code",
   "execution_count": 12,
   "id": "3bee9e8f",
   "metadata": {},
   "outputs": [],
   "source": [
    "manager = MetaInfo(train_data)"
   ]
  },
  {
   "cell_type": "code",
   "execution_count": 152,
   "id": "d0ef4c5e",
   "metadata": {},
   "outputs": [],
   "source": [
    "new_features = manager.generate_meta_features()"
   ]
  },
  {
   "cell_type": "code",
   "execution_count": 153,
   "id": "79c2470a",
   "metadata": {},
   "outputs": [
    {
     "data": {
      "text/html": [
       "<div>\n",
       "<style scoped>\n",
       "    .dataframe tbody tr th:only-of-type {\n",
       "        vertical-align: middle;\n",
       "    }\n",
       "\n",
       "    .dataframe tbody tr th {\n",
       "        vertical-align: top;\n",
       "    }\n",
       "\n",
       "    .dataframe thead th {\n",
       "        text-align: right;\n",
       "    }\n",
       "</style>\n",
       "<table border=\"1\" class=\"dataframe\">\n",
       "  <thead>\n",
       "    <tr style=\"text-align: right;\">\n",
       "      <th></th>\n",
       "      <th>unique_places</th>\n",
       "      <th>orders_count</th>\n",
       "      <th>total_spend</th>\n",
       "      <th>avg_bill</th>\n",
       "      <th>unique_days</th>\n",
       "    </tr>\n",
       "    <tr>\n",
       "      <th>customer_id</th>\n",
       "      <th></th>\n",
       "      <th></th>\n",
       "      <th></th>\n",
       "      <th></th>\n",
       "      <th></th>\n",
       "    </tr>\n",
       "  </thead>\n",
       "  <tbody>\n",
       "    <tr>\n",
       "      <th>29891</th>\n",
       "      <td>2</td>\n",
       "      <td>25</td>\n",
       "      <td>5087.35</td>\n",
       "      <td>203.494000</td>\n",
       "      <td>19</td>\n",
       "    </tr>\n",
       "    <tr>\n",
       "      <th>30477</th>\n",
       "      <td>1</td>\n",
       "      <td>25</td>\n",
       "      <td>5675.60</td>\n",
       "      <td>227.024000</td>\n",
       "      <td>21</td>\n",
       "    </tr>\n",
       "    <tr>\n",
       "      <th>31426</th>\n",
       "      <td>1</td>\n",
       "      <td>24</td>\n",
       "      <td>9393.59</td>\n",
       "      <td>391.399583</td>\n",
       "      <td>20</td>\n",
       "    </tr>\n",
       "    <tr>\n",
       "      <th>44491</th>\n",
       "      <td>2</td>\n",
       "      <td>4</td>\n",
       "      <td>514.90</td>\n",
       "      <td>128.725000</td>\n",
       "      <td>3</td>\n",
       "    </tr>\n",
       "    <tr>\n",
       "      <th>44939</th>\n",
       "      <td>2</td>\n",
       "      <td>3</td>\n",
       "      <td>1664.83</td>\n",
       "      <td>554.943333</td>\n",
       "      <td>3</td>\n",
       "    </tr>\n",
       "    <tr>\n",
       "      <th>...</th>\n",
       "      <td>...</td>\n",
       "      <td>...</td>\n",
       "      <td>...</td>\n",
       "      <td>...</td>\n",
       "      <td>...</td>\n",
       "    </tr>\n",
       "    <tr>\n",
       "      <th>46624509</th>\n",
       "      <td>1</td>\n",
       "      <td>3</td>\n",
       "      <td>935.90</td>\n",
       "      <td>311.966667</td>\n",
       "      <td>2</td>\n",
       "    </tr>\n",
       "    <tr>\n",
       "      <th>46625265</th>\n",
       "      <td>1</td>\n",
       "      <td>3</td>\n",
       "      <td>1199.87</td>\n",
       "      <td>399.956667</td>\n",
       "      <td>1</td>\n",
       "    </tr>\n",
       "    <tr>\n",
       "      <th>46639170</th>\n",
       "      <td>1</td>\n",
       "      <td>3</td>\n",
       "      <td>1089.92</td>\n",
       "      <td>363.306667</td>\n",
       "      <td>1</td>\n",
       "    </tr>\n",
       "    <tr>\n",
       "      <th>46654016</th>\n",
       "      <td>1</td>\n",
       "      <td>3</td>\n",
       "      <td>1219.93</td>\n",
       "      <td>406.643333</td>\n",
       "      <td>1</td>\n",
       "    </tr>\n",
       "    <tr>\n",
       "      <th>46661804</th>\n",
       "      <td>1</td>\n",
       "      <td>3</td>\n",
       "      <td>834.93</td>\n",
       "      <td>278.310000</td>\n",
       "      <td>1</td>\n",
       "    </tr>\n",
       "  </tbody>\n",
       "</table>\n",
       "<p>500000 rows × 5 columns</p>\n",
       "</div>"
      ],
      "text/plain": [
       "             unique_places  orders_count  total_spend    avg_bill  unique_days\n",
       "customer_id                                                                   \n",
       "29891                    2            25      5087.35  203.494000           19\n",
       "30477                    1            25      5675.60  227.024000           21\n",
       "31426                    1            24      9393.59  391.399583           20\n",
       "44491                    2             4       514.90  128.725000            3\n",
       "44939                    2             3      1664.83  554.943333            3\n",
       "...                    ...           ...          ...         ...          ...\n",
       "46624509                 1             3       935.90  311.966667            2\n",
       "46625265                 1             3      1199.87  399.956667            1\n",
       "46639170                 1             3      1089.92  363.306667            1\n",
       "46654016                 1             3      1219.93  406.643333            1\n",
       "46661804                 1             3       834.93  278.310000            1\n",
       "\n",
       "[500000 rows x 5 columns]"
      ]
     },
     "execution_count": 153,
     "metadata": {},
     "output_type": "execute_result"
    }
   ],
   "source": [
    "new_features"
   ]
  },
  {
   "cell_type": "code",
   "execution_count": 154,
   "id": "3d0462f5",
   "metadata": {},
   "outputs": [
    {
     "data": {
      "text/html": [
       "<div>\n",
       "<style scoped>\n",
       "    .dataframe tbody tr th:only-of-type {\n",
       "        vertical-align: middle;\n",
       "    }\n",
       "\n",
       "    .dataframe tbody tr th {\n",
       "        vertical-align: top;\n",
       "    }\n",
       "\n",
       "    .dataframe thead th {\n",
       "        text-align: right;\n",
       "    }\n",
       "</style>\n",
       "<table border=\"1\" class=\"dataframe\">\n",
       "  <thead>\n",
       "    <tr style=\"text-align: right;\">\n",
       "      <th></th>\n",
       "      <th>date_diff_post</th>\n",
       "      <th>buy_post</th>\n",
       "    </tr>\n",
       "    <tr>\n",
       "      <th>customer_id</th>\n",
       "      <th></th>\n",
       "      <th></th>\n",
       "    </tr>\n",
       "  </thead>\n",
       "  <tbody>\n",
       "    <tr>\n",
       "      <th>29891</th>\n",
       "      <td>9.0</td>\n",
       "      <td>1</td>\n",
       "    </tr>\n",
       "    <tr>\n",
       "      <th>30477</th>\n",
       "      <td>10.0</td>\n",
       "      <td>1</td>\n",
       "    </tr>\n",
       "    <tr>\n",
       "      <th>31426</th>\n",
       "      <td>4.0</td>\n",
       "      <td>1</td>\n",
       "    </tr>\n",
       "    <tr>\n",
       "      <th>44491</th>\n",
       "      <td>42.0</td>\n",
       "      <td>1</td>\n",
       "    </tr>\n",
       "    <tr>\n",
       "      <th>44939</th>\n",
       "      <td>9.0</td>\n",
       "      <td>1</td>\n",
       "    </tr>\n",
       "    <tr>\n",
       "      <th>...</th>\n",
       "      <td>...</td>\n",
       "      <td>...</td>\n",
       "    </tr>\n",
       "    <tr>\n",
       "      <th>46624509</th>\n",
       "      <td>NaN</td>\n",
       "      <td>0</td>\n",
       "    </tr>\n",
       "    <tr>\n",
       "      <th>46625265</th>\n",
       "      <td>NaN</td>\n",
       "      <td>0</td>\n",
       "    </tr>\n",
       "    <tr>\n",
       "      <th>46639170</th>\n",
       "      <td>10.0</td>\n",
       "      <td>1</td>\n",
       "    </tr>\n",
       "    <tr>\n",
       "      <th>46654016</th>\n",
       "      <td>15.0</td>\n",
       "      <td>1</td>\n",
       "    </tr>\n",
       "    <tr>\n",
       "      <th>46661804</th>\n",
       "      <td>NaN</td>\n",
       "      <td>0</td>\n",
       "    </tr>\n",
       "  </tbody>\n",
       "</table>\n",
       "<p>500000 rows × 2 columns</p>\n",
       "</div>"
      ],
      "text/plain": [
       "             date_diff_post  buy_post\n",
       "customer_id                          \n",
       "29891                   9.0         1\n",
       "30477                  10.0         1\n",
       "31426                   4.0         1\n",
       "44491                  42.0         1\n",
       "44939                   9.0         1\n",
       "...                     ...       ...\n",
       "46624509                NaN         0\n",
       "46625265                NaN         0\n",
       "46639170               10.0         1\n",
       "46654016               15.0         1\n",
       "46661804                NaN         0\n",
       "\n",
       "[500000 rows x 2 columns]"
      ]
     },
     "execution_count": 154,
     "metadata": {},
     "output_type": "execute_result"
    }
   ],
   "source": [
    "\n",
    "labels = manager.get_labels()\n",
    "labels"
   ]
  },
  {
   "cell_type": "code",
   "execution_count": 126,
   "id": "355a5035",
   "metadata": {},
   "outputs": [],
   "source": [
    "difference_in_time = temp.diff()"
   ]
  },
  {
   "cell_type": "code",
   "execution_count": 131,
   "id": "c783cbd6",
   "metadata": {},
   "outputs": [],
   "source": [
    "# difference_in_time.groupby(difference_in_time).mean()\n",
    "train_data['date_diff'] = train_data.groupby(\"customer_id\")['startdatetime'].diff()"
   ]
  },
  {
   "cell_type": "code",
   "execution_count": 121,
   "id": "b6535453",
   "metadata": {},
   "outputs": [
    {
     "data": {
      "text/plain": [
       "Timedelta('0 days 14:10:27.576470588')"
      ]
     },
     "execution_count": 121,
     "metadata": {},
     "output_type": "execute_result"
    }
   ],
   "source": [
    "item[1].diff().mean()"
   ]
  },
  {
   "cell_type": "code",
   "execution_count": 51,
   "id": "d32dcfa7",
   "metadata": {},
   "outputs": [],
   "source": [
    "t = train_data.groupby('dish_name')['revenue'].median()"
   ]
  },
  {
   "cell_type": "code",
   "execution_count": 52,
   "id": "8f487690",
   "metadata": {},
   "outputs": [],
   "source": [
    "t2 = train_data['revenue'] - train_data['dish_name'].map(t)"
   ]
  },
  {
   "cell_type": "code",
   "execution_count": 55,
   "id": "1864ba5e",
   "metadata": {},
   "outputs": [
    {
     "data": {
      "text/plain": [
       "<AxesSubplot:>"
      ]
     },
     "execution_count": 55,
     "metadata": {},
     "output_type": "execute_result"
    },
    {
     "data": {
      "image/png": "[encoded data removed]",
      "text/plain": [
       "<Figure size 640x480 with 1 Axes>"
      ]
     },
     "metadata": {},
     "output_type": "display_data"
    }
   ],
   "source": [
    "train_data['dish_name'].map(t).hist()"
   ]
  }
 ],
 "metadata": {
  "kernelspec": {
   "display_name": "Python 3 (ipykernel)",
   "language": "python",
   "name": "python3"
  },
  "language_info": {
   "codemirror_mode": {
    "name": "ipython",
    "version": 3
   },
   "file_extension": ".py",
   "mimetype": "text/x-python",
   "name": "python",
   "nbconvert_exporter": "python",
   "pygments_lexer": "ipython3",
   "version": "3.9.17"
  }
 },
 "nbformat": 4,
 "nbformat_minor": 5
}
