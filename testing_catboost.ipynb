{
 "cells": [
  {
   "cell_type": "code",
   "execution_count": 13,
   "id": "1f81daf2",
   "metadata": {},
   "outputs": [
    {
     "name": "stdout",
     "output_type": "stream",
     "text": [
      "The autoreload extension is already loaded. To reload it, use:\n",
      "  %reload_ext autoreload\n"
     ]
    }
   ],
   "source": [
    "%load_ext autoreload\n",
    "%autoreload 2\n",
    "from catboost import CatBoostRegressor, Pool, cv, CatBoostClassifier\n",
    "from src import MetaInfo\n",
    "import pandas as pd\n",
    "from sklearn.model_selection import train_test_split\n",
    "from sklearn.metrics import f1_score, balanced_accuracy_score, roc_auc_score,roc_curve\n",
    "import numpy as np\n",
    "import matplotlib.pyplot as plt\n",
    "from sklearn.metrics import mean_squared_error\n"
   ]
  },
  {
   "cell_type": "code",
   "execution_count": 2,
   "id": "a0c58e79",
   "metadata": {},
   "outputs": [],
   "source": [
    "train_data = pd.read_parquet(\"data/train.parquet\")\n",
    "test_data = pd.read_parquet(\"data/test.parquet\")\n"
   ]
  },
  {
   "cell_type": "code",
   "execution_count": 3,
   "id": "729d1f21",
   "metadata": {},
   "outputs": [],
   "source": [
    "manager = MetaInfo(train_data,fill_churn=60)"
   ]
  },
  {
   "cell_type": "code",
   "execution_count": 4,
   "id": "6bcd8a64",
   "metadata": {},
   "outputs": [],
   "source": [
    "X = manager.generate_meta_features()\n",
    "y = manager.get_labels()"
   ]
  },
  {
   "cell_type": "code",
   "execution_count": 5,
   "id": "90491a11",
   "metadata": {},
   "outputs": [],
   "source": [
    "# X.head()"
   ]
  },
  {
   "cell_type": "code",
   "execution_count": 6,
   "id": "c04443ac",
   "metadata": {},
   "outputs": [],
   "source": [
    "X_train, X_test, y_train, y_test = train_test_split(X, y, test_size=0.33, random_state=123)"
   ]
  },
  {
   "cell_type": "code",
   "execution_count": 7,
   "id": "ea81f696",
   "metadata": {},
   "outputs": [
    {
     "data": {
      "text/plain": [
       "0.796484553543692"
      ]
     },
     "execution_count": 7,
     "metadata": {},
     "output_type": "execute_result"
    }
   ],
   "source": [
    "train_data['buy_post'].sum() / len(train_data)"
   ]
  },
  {
   "cell_type": "code",
   "execution_count": 8,
   "id": "c9ae7c8e",
   "metadata": {},
   "outputs": [],
   "source": [
    "reg_params = {\n",
    "    'loss_function': 'RMSE',\n",
    "    'iterations': 2000,\n",
    "    'learning_rate': 0.03,\n",
    "    'depth': 4,\n",
    "    'l2_leaf_reg': 3,\n",
    "    'od_type': 'Iter',\n",
    "    'od_wait': 20,\n",
    "    'verbose': 100,\n",
    "    'scale_pos_weight': 4\n",
    "}\n",
    "clf_params = {\n",
    "    'loss_function': 'Logloss',  # Logloss for binary classification\n",
    "    'iterations': 2000,\n",
    "    'learning_rate': 0.03,\n",
    "    'depth': 3,\n",
    "    'l2_leaf_reg': 2,\n",
    "    'od_type': 'Iter',\n",
    "    'od_wait': 20,\n",
    "    'verbose': 100,\n",
    "    'scale_pos_weight': 4\n",
    "}\n"
   ]
  },
  {
   "cell_type": "code",
   "execution_count": 9,
   "id": "cdd483ec",
   "metadata": {},
   "outputs": [
    {
     "data": {
      "text/plain": [
       "array([0, 0, 1, ..., 0, 0, 1])"
      ]
     },
     "execution_count": 9,
     "metadata": {},
     "output_type": "execute_result"
    }
   ],
   "source": [
    "y_train['buy_post'].values"
   ]
  },
  {
   "cell_type": "code",
   "execution_count": 10,
   "id": "fca63aa6",
   "metadata": {},
   "outputs": [
    {
     "name": "stdout",
     "output_type": "stream",
     "text": [
      "0:\tlearn: 0.6313173\ttotal: 78.1ms\tremaining: 2m 36s\n",
      "100:\tlearn: 0.2787013\ttotal: 2.22s\tremaining: 41.8s\n",
      "200:\tlearn: 0.2785732\ttotal: 4.22s\tremaining: 37.8s\n",
      "300:\tlearn: 0.2784763\ttotal: 6.4s\tremaining: 36.1s\n",
      "400:\tlearn: 0.2784018\ttotal: 8.42s\tremaining: 33.6s\n",
      "500:\tlearn: 0.2783319\ttotal: 10.5s\tremaining: 31.4s\n",
      "600:\tlearn: 0.2782850\ttotal: 12.6s\tremaining: 29.3s\n",
      "700:\tlearn: 0.2782484\ttotal: 14.7s\tremaining: 27.3s\n",
      "800:\tlearn: 0.2782173\ttotal: 16.6s\tremaining: 24.9s\n",
      "900:\tlearn: 0.2781948\ttotal: 18.6s\tremaining: 22.7s\n",
      "1000:\tlearn: 0.2781603\ttotal: 20.9s\tremaining: 20.9s\n",
      "1100:\tlearn: 0.2781363\ttotal: 22.9s\tremaining: 18.7s\n",
      "1200:\tlearn: 0.2781144\ttotal: 24.9s\tremaining: 16.6s\n",
      "1300:\tlearn: 0.2780897\ttotal: 27.1s\tremaining: 14.6s\n",
      "1400:\tlearn: 0.2780678\ttotal: 29.2s\tremaining: 12.5s\n",
      "1500:\tlearn: 0.2780457\ttotal: 31.3s\tremaining: 10.4s\n",
      "1600:\tlearn: 0.2780200\ttotal: 33.3s\tremaining: 8.29s\n",
      "1700:\tlearn: 0.2780005\ttotal: 35.3s\tremaining: 6.21s\n",
      "1800:\tlearn: 0.2779681\ttotal: 37.6s\tremaining: 4.15s\n",
      "1900:\tlearn: 0.2779403\ttotal: 39.8s\tremaining: 2.07s\n",
      "1999:\tlearn: 0.2779216\ttotal: 41.8s\tremaining: 0us\n"
     ]
    },
    {
     "data": {
      "text/plain": [
       "<catboost.core.CatBoostClassifier at 0x7fa75214e520>"
      ]
     },
     "execution_count": 10,
     "metadata": {},
     "output_type": "execute_result"
    }
   ],
   "source": [
    "final_model = CatBoostClassifier(\n",
    "    loss_function=\"Logloss\",\n",
    "    iterations=2000,\n",
    "    learning_rate=0.06,\n",
    "    depth=4,\n",
    "    l2_leaf_reg=2,\n",
    "    scale_pos_weight=4,\n",
    "    verbose=100\n",
    ")\n",
    "final_model.fit(X_train.values, y_train['buy_post'].values)\n"
   ]
  },
  {
   "cell_type": "code",
   "execution_count": 11,
   "id": "19472764",
   "metadata": {},
   "outputs": [],
   "source": [
    "clf_pred_proba = final_model.predict_proba(X_test.values)"
   ]
  },
  {
   "cell_type": "code",
   "execution_count": 75,
   "id": "d9f4d3c6",
   "metadata": {},
   "outputs": [
    {
     "data": {
      "text/plain": [
       "39.722827037848"
      ]
     },
     "execution_count": 75,
     "metadata": {},
     "output_type": "execute_result"
    }
   ],
   "source": [
    "# np.sqrt(\n",
    "#     mean_squared_error(\n",
    "#         y_test['date_diff_post'],\n",
    "#         clf_pred\n",
    "#     )\n",
    "# ) "
   ]
  },
  {
   "cell_type": "code",
   "execution_count": 90,
   "id": "f2c109ba",
   "metadata": {},
   "outputs": [
    {
     "data": {
      "text/plain": [
       "0.999769696969697"
      ]
     },
     "execution_count": 90,
     "metadata": {},
     "output_type": "execute_result"
    }
   ],
   "source": [
    "# # plt.hist(clf_pred)\n",
    "# clf_pred.sum() / len(clf_pred)"
   ]
  },
  {
   "cell_type": "code",
   "execution_count": 15,
   "id": "8e233cac",
   "metadata": {},
   "outputs": [],
   "source": [
    "# prediction_ = np.array(clf_pred, dtype=np.int64)\n",
    "# f1_score(\n",
    "#     y_test['buy_post'],\n",
    "#     prediction_\n",
    "    \n",
    "# ), balanced_accuracy_score(\n",
    "#     y_test['buy_post'],\n",
    "#     prediction_\n",
    "# )"
   ]
  },
  {
   "cell_type": "code",
   "execution_count": 16,
   "id": "4117260c",
   "metadata": {},
   "outputs": [
    {
     "data": {
      "text/plain": [
       "array([0.87325844, 0.88049618, 0.6443994 , ..., 0.91908163, 0.86248241,\n",
       "       0.80981307])"
      ]
     },
     "execution_count": 16,
     "metadata": {},
     "output_type": "execute_result"
    }
   ],
   "source": [
    "clf_pred_proba[:,1]"
   ]
  },
  {
   "cell_type": "code",
   "execution_count": 17,
   "id": "e534b263",
   "metadata": {},
   "outputs": [
    {
     "name": "stdout",
     "output_type": "stream",
     "text": [
      "ROC-AUC Score: 0.7034915267619763\n"
     ]
    },
    {
     "data": {
      "image/png": "[encoded data removed]",
      "text/plain": [
       "<Figure size 800x800 with 1 Axes>"
      ]
     },
     "metadata": {},
     "output_type": "display_data"
    }
   ],
   "source": [
    "roc_auc = roc_auc_score(y_test['buy_post'].values, clf_pred_proba[:,1])\n",
    "print(f'ROC-AUC Score: {roc_auc}')\n",
    "\n",
    "\n",
    "fpr, tpr, _ = roc_curve(y_test['buy_post'].values, clf_pred_proba[:,1])\n",
    "\n",
    "# Plot ROC curve\n",
    "plt.figure(figsize=(8, 8))\n",
    "plt.plot(fpr, tpr, color='darkorange', lw=2, label=f'ROC Curve (AUC = {roc_auc:.2f})')\n",
    "plt.plot([0, 1], [0, 1], color='navy', lw=2, linestyle='--', label='Random Guess')\n",
    "plt.xlabel('False Positive Rate')\n",
    "plt.ylabel('True Positive Rate')\n",
    "plt.title('Receiver Operating Characteristic (ROC) Curve')\n",
    "plt.legend(loc='lower right')\n",
    "plt.show()"
   ]
  },
  {
   "cell_type": "code",
   "execution_count": 19,
   "id": "ac6aa5e2",
   "metadata": {},
   "outputs": [],
   "source": [
    "# from sklearn.metrics import balanced_accuracy_score\n",
    "# binary_true = y_test['buy_post'].values\n",
    "\n",
    "# binary_predictions = np.array((cl<67),dtype=int)\n",
    "# # binary_true = np.array((y_ <=100),dtype=int)\n",
    "# f1_score(binary_true, binary_predictions), balanced_accuracy_score(binary_true, binary_predictions)"
   ]
  }
 ],
 "metadata": {
  "kernelspec": {
   "display_name": "Python 3 (ipykernel)",
   "language": "python",
   "name": "python3"
  },
  "language_info": {
   "codemirror_mode": {
    "name": "ipython",
    "version": 3
   },
   "file_extension": ".py",
   "mimetype": "text/x-python",
   "name": "python",
   "nbconvert_exporter": "python",
   "pygments_lexer": "ipython3",
   "version": "3.9.17"
  }
 },
 "nbformat": 4,
 "nbformat_minor": 5
}
